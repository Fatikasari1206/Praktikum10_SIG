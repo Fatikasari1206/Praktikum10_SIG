{
 "cells": [
  {
   "cell_type": "code",
   "execution_count": 3,
   "id": "06081a2b-30eb-4cb8-967b-404eaff6d936",
   "metadata": {},
   "outputs": [
    {
     "name": "stdout",
     "output_type": "stream",
     "text": [
      "Kunci Enkripsi           : J1eSvnAAxaTMJqFv239luXtWTO9qaU1b3hay7MKs4Co=\n",
      "Data Setelah Enkripsi    : gAAAAABoWMD0o4nUc7X3tDAUZ8UyWVzy4eRJCa-piTTzuxHghAZE6Jf3TRMP6W-oOBsQcmenuy8FGC5isQKDiEapgvKxdHgGgKxz17Pp1oRpdRWkfaJMlyE=\n",
      "Data Setelah Deskripsi   : 4111111111111111|123|12/27\n"
     ]
    }
   ],
   "source": [
    "from cryptography.fernet import Fernet\n",
    "\n",
    "# Generate dan simpan kunci enkripsi\n",
    "key = Fernet.generate_key()\n",
    "cipher = Fernet(key)\n",
    "\n",
    "# Data kartu dummy\n",
    "data_kartu = \"4111111111111111|123|12/27\"\n",
    "\n",
    "# Enkripsi\n",
    "data_terenkripsi = cipher.encrypt(data_kartu.encode())\n",
    "\n",
    "# Deskripsi\n",
    "data_terdekripsi = cipher.decrypt(data_terenkripsi).decode()\n",
    "\n",
    "# Output\n",
    "print(\"Kunci Enkripsi           :\", key.decode())\n",
    "print(\"Data Setelah Enkripsi    :\", data_terenkripsi.decode())\n",
    "print(\"Data Setelah Deskripsi   :\", data_terdekripsi)\n"
   ]
  },
  {
   "cell_type": "code",
   "execution_count": null,
   "id": "219fb4e4-2e96-4b6a-b096-5ccac81ce3b0",
   "metadata": {},
   "outputs": [],
   "source": []
  }
 ],
 "metadata": {
  "kernelspec": {
   "display_name": "Python [conda env:base] *",
   "language": "python",
   "name": "conda-base-py"
  },
  "language_info": {
   "codemirror_mode": {
    "name": "ipython",
    "version": 3
   },
   "file_extension": ".py",
   "mimetype": "text/x-python",
   "name": "python",
   "nbconvert_exporter": "python",
   "pygments_lexer": "ipython3",
   "version": "3.12.7"
  }
 },
 "nbformat": 4,
 "nbformat_minor": 5
}
